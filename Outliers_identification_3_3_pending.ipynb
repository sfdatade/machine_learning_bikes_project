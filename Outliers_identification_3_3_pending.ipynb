{
 "cells": [
  {
   "cell_type": "code",
   "execution_count": null,
   "metadata": {},
   "outputs": [],
   "source": []
  },
  {
   "cell_type": "code",
   "execution_count": 2,
   "metadata": {},
   "outputs": [],
   "source": [
    "import numpy as np\n",
    "import pandas as pd\n",
    "import matplotlib.pyplot as plt\n",
    "import seaborn as sns\n",
    "import warnings"
   ]
  },
  {
   "cell_type": "code",
   "execution_count": 3,
   "metadata": {},
   "outputs": [],
   "source": [
    "%matplotlib inline\n",
    "warnings.filterwarnings('ignore')\n",
    "sns.set_style(\"darkgrid\")"
   ]
  },
  {
   "cell_type": "code",
   "execution_count": 4,
   "metadata": {},
   "outputs": [],
   "source": [
    "import statsmodels.api as sm\n",
    "import sklearn\n",
    "from sklearn.model_selection import train_test_split\n",
    "from sklearn.linear_model import LinearRegression\n",
    "from sklearn.preprocessing import MinMaxScaler"
   ]
  },
  {
   "cell_type": "code",
   "execution_count": 5,
   "metadata": {},
   "outputs": [],
   "source": [
    "bikes = pd.read_csv(\"uci_edu_day.csv\" , sep=\",\")"
   ]
  },
  {
   "attachments": {},
   "cell_type": "markdown",
   "metadata": {},
   "source": [
    "# **Identification the outliers**"
   ]
  },
  {
   "attachments": {},
   "cell_type": "markdown",
   "metadata": {},
   "source": [
    "Z-score method: \n",
    "\n",
    "The z-score measures how many standard deviations a data point is from the mean. By calculating the z-score for each data point, you can identify any points that are more than a certain number of standard deviations away from the mean (e.g. z-score greater than 3 or less than -3) and consider them to be outliers."
   ]
  },
  {
   "cell_type": "code",
   "execution_count": 6,
   "metadata": {},
   "outputs": [
    {
     "ename": "SyntaxError",
     "evalue": "invalid syntax (216340680.py, line 11)",
     "output_type": "error",
     "traceback": [
      "\u001b[1;36m  File \u001b[1;32m\"C:\\Users\\sfmol\\AppData\\Local\\Temp\\ipykernel_8316\\216340680.py\"\u001b[1;36m, line \u001b[1;32m11\u001b[0m\n\u001b[1;33m    dteday\tseason\tyr\tmnth\tholiday\tweekday\tworkingday\tweathersit\t***temp\tatemp\thum**\twindspeed\tcasual\tregistered\tcnt\u001b[0m\n\u001b[1;37m          \t^\u001b[0m\n\u001b[1;31mSyntaxError\u001b[0m\u001b[1;31m:\u001b[0m invalid syntax\n"
     ]
    }
   ],
   "source": [
    "# Generate some example data\n",
    "bikes_zscore = pd.DataFrame({'temp': np.random.normal(0, 1, 100), # Generates 100 random values from a normal distribution with mean 0 and standard deviation 1, and assigns them to the 'temp' column\n",
    "                     'atemp': np.random.normal(10, 2, 100), # Generates 100 random values from a normal distribution with mean 10 and standard deviation 2, and assigns them to the 'atemp' column\n",
    "                     'hum': np.random.normal(-5, 5, 100)}) # Generates 100 random values from a normal distribution with mean -5 and standard deviation 5, and assigns them to the 'hum' column\n",
    "\n",
    "\n",
    "                    \n",
    "\n",
    "\n",
    "\n",
    "dteday\tseason\tyr\tmnth\tholiday\tweekday\tworkingday\tweathersit\t***temp\tatemp\thum**\twindspeed\tcasual\tregistered\tcnt\n",
    "\n",
    "# Define a function to calculate the z-score for each data point\n",
    "def zscore(series):\n",
    "    return (series - series.mean()) / series.std()\n",
    "\n",
    "# Apply the zscore function to each column of the data frame\n",
    "z_scores = bikes_zscore.apply(zscore)\n",
    "\n",
    "# Identify any data points with a z-score greater than 3 or less than -3\n",
    "outliers = bikes_zscore[(z_scores > 3).any(axis=1) | (z_scores < -3).any(axis=1)]\n",
    "\n",
    "# Print the outliers\n",
    "print(outliers)\n",
    "\n",
    "\n"
   ]
  },
  {
   "cell_type": "code",
   "execution_count": null,
   "metadata": {},
   "outputs": [
    {
     "ename": "NameError",
     "evalue": "name 'bikes' is not defined",
     "output_type": "error",
     "traceback": [
      "\u001b[1;31m---------------------------------------------------------------------------\u001b[0m",
      "\u001b[1;31mNameError\u001b[0m                                 Traceback (most recent call last)",
      "\u001b[1;32m~\\AppData\\Local\\Temp\\ipykernel_8316\\1414717511.py\u001b[0m in \u001b[0;36m<module>\u001b[1;34m\u001b[0m\n\u001b[1;32m----> 1\u001b[1;33m \u001b[0mbikes\u001b[0m\u001b[1;33m\u001b[0m\u001b[1;33m\u001b[0m\u001b[0m\n\u001b[0m",
      "\u001b[1;31mNameError\u001b[0m: name 'bikes' is not defined"
     ]
    }
   ],
   "source": [
    "bikes"
   ]
  },
  {
   "cell_type": "code",
   "execution_count": null,
   "metadata": {},
   "outputs": [],
   "source": [
    "#In this code, we first generate some example data in the form of a Pandas DataFrame. We then define a function zscore that takes a Pandas Series (i.e. a single column of the DataFrame) as input and returns the z-score for each data point in that column. We apply this function to each column of the DataFrame using the apply method.\n",
    "\n",
    "#The code you provided generates a Pandas DataFrame called bikes with three columns, each containing 100 randomly generated values from a normal distribution with different mean and standard deviation parameters.\n",
    "\n",
    "#Next, we identify any data points with a z-score greater than 3 or less than -3 using the any method to check whether any values in the DataFrame are outside of the specified range. We use the | operator to combine the results for each column, so that a row will be considered an outlier if any of its columns have a z-score outside of the specified range. Finally, we print the outliers, which are any rows of the original DataFrame that have at least one outlier in any of their columns.\n",
    "\n",
    "# ... The choice of z-score range to use when identifying outliers using the z-score method is somewhat subjective and may depend on the specific characteristics of your data and your analysis goals. A common convention is to consider any data point with a z-score greater than 3 or less than -3 to be an outlier, as these values correspond to data points that are more than 3 standard deviations away from the mean in either direction.\n",
    "#However, the choice of z-score range should be based on your understanding of the distribution of your data and the potential sources of variability. For example, if your data has a very wide distribution or contains extreme values, you may want to use a larger z-score range to identify outliers. Conversely, if your data has a very narrow distribution or contains few extreme values, you may want to use a smaller z-score range to avoid identifying too many false positives as outliers.\n",
    "#Ultimately, it's important to carefully consider the potential impact of outliers on your analysis and to use a range that makes sense for your specific research question and data characteristics."
   ]
  },
  {
   "attachments": {},
   "cell_type": "markdown",
   "metadata": {},
   "source": [
    "#### To remove or handle the outliers"
   ]
  },
  {
   "cell_type": "code",
   "execution_count": null,
   "metadata": {},
   "outputs": [],
   "source": [
    "# Remove outliers from the DataFrame\n",
    "bikes_no_outliers = z_scores.drop(outliers.index)"
   ]
  },
  {
   "cell_type": "code",
   "execution_count": null,
   "metadata": {},
   "outputs": [],
   "source": [
    "bikes_no_outliers"
   ]
  },
  {
   "attachments": {},
   "cell_type": "markdown",
   "metadata": {},
   "source": [
    "#### The example code snippet that demonstrates how to identify outliers using the IQR method:\n",
    "\n",
    "python\n",
    "Copy code\n",
    ".# Generate a sample DataFrame\n",
    "import pandas as pd\n",
    "import numpy as np\n",
    "df = pd.DataFrame(np.random.randn(100, 4), columns=list('ABCD'))\n",
    "\n",
    ".# Calculate the first and third quartiles\n",
    "Q1 = df.quantile(0.25)\n",
    "Q3 = df.quantile(0.75)\n",
    "\n",
    ".# Calculate the IQR\n",
    "IQR = Q3 - Q1\n",
    "\n",
    "...# Define outliers as any value below Q1 - 1.5*IQR or above Q3 + 1.5*IQR\n",
    "outliers = df[(df < (Q1 - 1.5 * IQR)) | (df > (Q3 + 1.5 * IQR))].dropna()"
   ]
  },
  {
   "attachments": {},
   "cell_type": "markdown",
   "metadata": {},
   "source": [
    "#### ...It has worked?"
   ]
  },
  {
   "attachments": {},
   "cell_type": "markdown",
   "metadata": {},
   "source": [
    "The Interquartile range (IQR) method:, you can use the quantile method of Pandas DataFrame to compute the first and third quartiles, and then calculate the IQR as the difference between them.\n",
    "\n",
    "Once you have computed the IQR, you can define outliers as any data point that falls below the first quartile minus 1.5 times the IQR, or above the third quartile plus 1.5 times the IQR.\n",
    "\n"
   ]
  },
  {
   "attachments": {},
   "cell_type": "markdown",
   "metadata": {},
   "source": [
    "In this code, we first generate a sample DataFrame df with 100 rows and 4 columns of random data. We then calculate the first and third quartiles using the quantile method of the DataFrame. We use a parameter of 0.25 and 0.75 to specify the first and third quartiles, respectively.\n",
    "\n",
    "We then calculate the IQR as the difference between the third and first quartiles. Finally, we define outliers as any data point that falls below Q1 - 1.5IQR or above Q3 + 1.5IQR. The resulting outliers are stored in a new DataFrame called outliers.\n",
    "\n",
    "**Note:\n",
    " ...that this method assumes that the data is normally distributed. If the data is skewed or has a different distribution, other methods such as the z-score method or visual inspection may be more appropriate for identifying outliers."
   ]
  }
 ],
 "metadata": {
  "kernelspec": {
   "display_name": "base",
   "language": "python",
   "name": "python3"
  },
  "language_info": {
   "codemirror_mode": {
    "name": "ipython",
    "version": 3
   },
   "file_extension": ".py",
   "mimetype": "text/x-python",
   "name": "python",
   "nbconvert_exporter": "python",
   "pygments_lexer": "ipython3",
   "version": "3.9.13"
  },
  "orig_nbformat": 4
 },
 "nbformat": 4,
 "nbformat_minor": 2
}
