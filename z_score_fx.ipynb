{
 "cells": [
  {
   "cell_type": "code",
   "execution_count": null,
   "metadata": {},
   "outputs": [],
   "source": []
  },
  {
   "cell_type": "code",
   "execution_count": 31,
   "metadata": {},
   "outputs": [
    {
     "name": "stdout",
     "output_type": "stream",
     "text": [
      "      dteday  season  yr  mnth  holiday  weekday  workingday  weathersit  \\\n",
      "0 2011-01-01       4   0     4        0        5           1           3   \n",
      "1 2011-01-02       2   1    11        0        0           0           2   \n",
      "2 2011-01-03       1   1     5        0        3           1           4   \n",
      "3 2011-01-04       3   1     2        1        5           0           4   \n",
      "4 2011-01-05       4   1     2        0        0           0           3   \n",
      "\n",
      "       temp      atemp       hum  windspeed  casual  registered   cnt  \n",
      "0 -0.706075  10.184138 -5.507621  22.291576    1265        4537  6649  \n",
      "1 -0.482165   9.758708  0.712394  20.421908    3923        6080  2598  \n",
      "2 -0.017000  11.517455  0.479087   8.832821    2239        7826  3629  \n",
      "3  0.175887   8.348784 -5.926424  12.018343    1121         774   903  \n",
      "4 -0.427546  10.876469 -5.509754  26.167721    3094        3168   271  \n"
     ]
    }
   ],
   "source": [
    "import pandas as pd\n",
    "import numpy as np\n",
    "\n",
    "# Generate some example data\n",
    "zscore_df = pd.DataFrame({\n",
    "    'dteday': pd.date_range(start='2011-01-01', end='2012-12-31'),\n",
    "    'season': np.random.randint(1, 5, size=731),\n",
    "    'yr': np.random.randint(0, 2, size=731),\n",
    "    'mnth': np.random.randint(1, 13, size=731),\n",
    "    'holiday': np.random.randint(0, 2, size=731),\n",
    "    'weekday': np.random.randint(0, 7, size=731),\n",
    "    'workingday': np.random.randint(0, 2, size=731),\n",
    "    'weathersit': np.random.randint(1, 5, size=731),\n",
    "    'temp': np.random.normal(0, 1, 731),\n",
    "    'atemp': np.random.normal(10, 2, 731),\n",
    "    'hum': np.random.normal(-5, 5, 731),\n",
    "    'windspeed': np.random.normal(15, 5, 731),\n",
    "    'casual': np.random.randint(0, 5000, size=731),\n",
    "    'registered': np.random.randint(0, 8000, size=731),\n",
    "    'cnt': np.random.randint(0, 10000, size=731)\n",
    "})\n",
    "\n",
    "# Print the first few rows of the DataFrame\n",
    "print(zscore_df.head())\n"
   ]
  },
  {
   "cell_type": "code",
   "execution_count": 32,
   "metadata": {},
   "outputs": [],
   "source": [
    "# This will generate a DataFrame with 731 rows, one for each day in the range from January 1, 2011 to December 31, 2012, and random values for all the variables you specified.\n",
    "\n",
    "# The dates `start='2011-01-01'` and `end='2012-12-31'` are used in some examples because they cover the full range of dates in the bike sharing dataset that is often used for learning and practicing data analysis. This dataset contains bike rental counts for two years, from 2011 to 2012, so setting the start and end dates to cover the full range of the dataset allows for a complete analysis of the data. However, in other analyses or real-world scenarios, different start and end dates may be used depending on the specific context and objectives of the analysis.\n",
    "\n",
    "# In the code np.random.randint(1, 5, size=731), the values 1 and 5 define the range from which the random integers will be generated. In this case, 1 is the lowest possible value that can be generated and 5 is the highest possible value that can be generated.\n",
    "\n",
    "# The reason why the range is from 1 to 5 is because the 'season' variable typically has 4 possible values, corresponding to the four seasons of the year (spring, summer, fall, winter). Therefore, np.random.randint(1, 5, size=731) generates 731 random integers between 1 and 4 (inclusive) that are used to assign the 'season' variable in the bike sharing dataset.\n",
    "\n"
   ]
  },
  {
   "attachments": {},
   "cell_type": "markdown",
   "metadata": {},
   "source": [
    "\n",
    "One way to define the ranges for the variables in your data frame is to use the describe method. The describe method computes various summary statistics, including the minimum and maximum values of each column. You can then use these values to define the ranges for each variable.\n",
    "\n",
    "Here's an example of how you could define the ranges for the variables in your data frame:"
   ]
  },
  {
   "cell_type": "code",
   "execution_count": 33,
   "metadata": {},
   "outputs": [],
   "source": [
    "# Get the minimum and maximum values for each variable\n",
    "zscore_df = zscore_df.describe().loc[['min', 'max']]\n",
    "\n",
    "# Define the ranges for each variable\n",
    "ranges = {\n",
    "    'temp': (zscore_df.loc['min', 'temp'], zscore_df.loc['max', 'temp']),\n",
    "    'atemp': (zscore_df.loc['min', 'atemp'], zscore_df.loc['max', 'atemp']),\n",
    "    'hum': (zscore_df.loc['min', 'hum'], zscore_df.loc['max', 'hum']),\n",
    "    'windspeed': (zscore_df.loc['min', 'windspeed'], zscore_df.loc['max', 'windspeed']),\n",
    "    'casual': (zscore_df.loc['min', 'casual'], zscore_df.loc['max', 'casual']),\n",
    "    'registered': (zscore_df.loc['min', 'registered'], zscore_df.loc['max', 'registered']),\n",
    "    'cnt': (zscore_df.loc['min', 'cnt'], zscore_df.loc['max', 'cnt'])\n",
    "}\n",
    "\n"
   ]
  },
  {
   "cell_type": "code",
   "execution_count": 34,
   "metadata": {},
   "outputs": [],
   "source": [
    "# You can then use the ranges dictionary in your code to define the range of values for each variable. For example, you can modify the line of code that generates the random values for the 'temp' column to use the range of values defined in the ranges dictionary like this:"
   ]
  },
  {
   "cell_type": "code",
   "execution_count": 35,
   "metadata": {},
   "outputs": [],
   "source": [
    "#'temp': np.random.uniform(ranges['temp'][0], ranges['temp'][1], size=731)"
   ]
  },
  {
   "cell_type": "code",
   "execution_count": 36,
   "metadata": {},
   "outputs": [],
   "source": [
    "# Similarly, you can modify the lines of code that generate the random values for the other variables to use their respective ranges defined in the ranges dictionary."
   ]
  },
  {
   "attachments": {},
   "cell_type": "markdown",
   "metadata": {},
   "source": [
    "Here's the modified code that uses variables to specify the ranges for each column:"
   ]
  },
  {
   "cell_type": "code",
   "execution_count": 37,
   "metadata": {},
   "outputs": [
    {
     "name": "stdout",
     "output_type": "stream",
     "text": [
      "        dteday  season  yr  mnth  holiday  weekday  workingday  weathersit  \\\n",
      "0   2012-10-07       2   1    11        1        0           1           3   \n",
      "1   2011-01-27       3   1     6        0        4           1           4   \n",
      "2   2011-06-15       2   0     2        0        0           1           1   \n",
      "3   2011-02-16       3   1     3        1        4           1           2   \n",
      "4   2011-08-27       1   0     9        0        2           1           2   \n",
      "..         ...     ...  ..   ...      ...      ...         ...         ...   \n",
      "726 2011-08-26       1   1     6        0        0           1           1   \n",
      "727 2012-11-04       1   0     3        1        6           0           2   \n",
      "728 2011-01-23       4   0     7        0        6           1           4   \n",
      "729 2011-01-09       1   0     7        0        3           0           1   \n",
      "730 2012-02-24       2   0    12        1        5           0           3   \n",
      "\n",
      "          temp      atemp        hum  windspeed  casual  registered   cnt  \n",
      "0    14.864746 -15.193880  80.961047  49.029829     125        3800  9611  \n",
      "1    31.212759  -3.495580  42.514330  17.120194    3748        1375  7581  \n",
      "2    16.375651  38.496775   4.223304  13.453334    1623        1059  7398  \n",
      "3    28.913390  19.330019  43.186339  42.827992    4690         227  9698  \n",
      "4     9.947288  38.727417  56.865518  21.971373    3147        6517  1281  \n",
      "..         ...        ...        ...        ...     ...         ...   ...  \n",
      "726   3.525963  42.541999  96.012696   3.631275     826        7859  4031  \n",
      "727  17.230408   4.262199  74.819078  40.554808    3640        7746  9409  \n",
      "728  31.866912  45.352510  42.815472   6.971588    4093        6725  8228  \n",
      "729  34.143245  11.144054  37.321891  43.944170    2308        2075  4206  \n",
      "730  -7.642343  39.941300  35.316335  13.827942    3555        5387  1016  \n",
      "\n",
      "[731 rows x 15 columns]\n"
     ]
    }
   ],
   "source": [
    "# Define the ranges for each column\n",
    "\n",
    "date_range = pd.date_range(start='2011-01-01', end='2012-12-31')\n",
    "season_range = [1, 2, 3, 4]\n",
    "yr_range = [0, 1]\n",
    "mnth_range = list(range(1, 13))\n",
    "holiday_range = [0, 1]\n",
    "weekday_range = list(range(0, 7))\n",
    "workingday_range = [0, 1]\n",
    "weathersit_range = [1, 2, 3, 4]\n",
    "temp_range = [-10, 40]\n",
    "atemp_range = [-20, 50]\n",
    "hum_range = [0, 100]\n",
    "windspeed_range = [0, 50]\n",
    "casual_range = [0, 5000]\n",
    "registered_range = [0, 8000]\n",
    "cnt_range = [0, 10000]\n",
    "\n",
    "# Generate some example data\n",
    "bks_df = pd.DataFrame({\n",
    "    'dteday': np.random.choice(date_range, size=731),\n",
    "    'season': np.random.choice(season_range, size=731),\n",
    "    'yr': np.random.choice(yr_range, size=731),\n",
    "    'mnth': np.random.choice(mnth_range, size=731),\n",
    "    'holiday': np.random.choice(holiday_range, size=731),\n",
    "    'weekday': np.random.choice(weekday_range, size=731),\n",
    "    'workingday': np.random.choice(workingday_range, size=731),\n",
    "    'weathersit': np.random.choice(weathersit_range, size=731),\n",
    "    'temp': np.random.uniform(low=temp_range[0], high=temp_range[1], size=731),\n",
    "    'atemp': np.random.uniform(low=atemp_range[0], high=atemp_range[1], size=731),\n",
    "    'hum': np.random.uniform(low=hum_range[0], high=hum_range[1], size=731),\n",
    "    'windspeed': np.random.uniform(low=windspeed_range[0], high=windspeed_range[1], size=731),\n",
    "    'casual': np.random.randint(low=casual_range[0], high=casual_range[1]+1, size=731),\n",
    "    'registered': np.random.randint(low=registered_range[0], high=registered_range[1]+1, size=731),\n",
    "    'cnt': np.random.randint(low=cnt_range[0], high=cnt_range[1]+1, size=731)\n",
    "})\n",
    "\n",
    "# Display the dataframe\n",
    "print(bks_df)\n"
   ]
  },
  {
   "attachments": {},
   "cell_type": "markdown",
   "metadata": {},
   "source": [
    "This code will generate the same example data as before, but with the specified ranges for each column."
   ]
  },
  {
   "cell_type": "code",
   "execution_count": 38,
   "metadata": {},
   "outputs": [],
   "source": [
    "# These ranges were manually defined by me as examples for the possible range of values for each column in the data frame. You can define your own ranges based on your specific use case and data.\n",
    "\n",
    "# For example, the ranges for temperature ('temp') and feeling temperature ('atemp') were set to -10 and 40, and -20 and 50, respectively, because these are common temperature ranges that people might experience in different seasons or locations. Similarly, the range for humidity ('hum') was set to 0 and 100 because humidity is usually measured as a percentage and can range from 0% to 100%.\n",
    "\n",
    "# You can define your own ranges based on the specific range of values that you expect in your data."
   ]
  },
  {
   "attachments": {},
   "cell_type": "markdown",
   "metadata": {},
   "source": [
    "Here's an example code that creates the lists of ranges for each column based on the information you provided:"
   ]
  },
  {
   "attachments": {},
   "cell_type": "markdown",
   "metadata": {},
   "source": [
    "# ????\n"
   ]
  },
  {
   "cell_type": "code",
   "execution_count": 39,
   "metadata": {},
   "outputs": [
    {
     "ename": "NameError",
     "evalue": "name 'column_ranges' is not defined",
     "output_type": "error",
     "traceback": [
      "\u001b[1;31m---------------------------------------------------------------------------\u001b[0m",
      "\u001b[1;31mNameError\u001b[0m                                 Traceback (most recent call last)",
      "\u001b[1;32m~\\AppData\\Local\\Temp\\ipykernel_7316\\2922278162.py\u001b[0m in \u001b[0;36m<module>\u001b[1;34m\u001b[0m\n\u001b[0;32m      1\u001b[0m \u001b[1;31m# Generate random values for each range\u001b[0m\u001b[1;33m\u001b[0m\u001b[1;33m\u001b[0m\u001b[0m\n\u001b[0;32m      2\u001b[0m \u001b[0mcolumn_values\u001b[0m \u001b[1;33m=\u001b[0m \u001b[1;33m{\u001b[0m\u001b[1;33m}\u001b[0m\u001b[1;33m\u001b[0m\u001b[1;33m\u001b[0m\u001b[0m\n\u001b[1;32m----> 3\u001b[1;33m \u001b[1;32mfor\u001b[0m \u001b[0mcolumn\u001b[0m\u001b[1;33m,\u001b[0m \u001b[0mvalue_range\u001b[0m \u001b[1;32min\u001b[0m \u001b[0mcolumn_ranges\u001b[0m\u001b[1;33m.\u001b[0m\u001b[0mitems\u001b[0m\u001b[1;33m(\u001b[0m\u001b[1;33m)\u001b[0m\u001b[1;33m:\u001b[0m\u001b[1;33m\u001b[0m\u001b[1;33m\u001b[0m\u001b[0m\n\u001b[0m\u001b[0;32m      4\u001b[0m     \u001b[1;32mif\u001b[0m \u001b[0misinstance\u001b[0m\u001b[1;33m(\u001b[0m\u001b[0mvalue_range\u001b[0m\u001b[1;33m[\u001b[0m\u001b[1;36m0\u001b[0m\u001b[1;33m]\u001b[0m\u001b[1;33m,\u001b[0m \u001b[0mint\u001b[0m\u001b[1;33m)\u001b[0m\u001b[1;33m:\u001b[0m\u001b[1;33m\u001b[0m\u001b[1;33m\u001b[0m\u001b[0m\n\u001b[0;32m      5\u001b[0m         \u001b[0mcolumn_values\u001b[0m\u001b[1;33m[\u001b[0m\u001b[0mcolumn\u001b[0m\u001b[1;33m]\u001b[0m \u001b[1;33m=\u001b[0m \u001b[0mnp\u001b[0m\u001b[1;33m.\u001b[0m\u001b[0mrandom\u001b[0m\u001b[1;33m.\u001b[0m\u001b[0mrandint\u001b[0m\u001b[1;33m(\u001b[0m\u001b[0mvalue_range\u001b[0m\u001b[1;33m[\u001b[0m\u001b[1;36m0\u001b[0m\u001b[1;33m]\u001b[0m\u001b[1;33m,\u001b[0m \u001b[0mvalue_range\u001b[0m\u001b[1;33m[\u001b[0m\u001b[1;36m1\u001b[0m\u001b[1;33m]\u001b[0m\u001b[1;33m+\u001b[0m\u001b[1;36m1\u001b[0m\u001b[1;33m,\u001b[0m \u001b[0msize\u001b[0m\u001b[1;33m=\u001b[0m\u001b[1;36m731\u001b[0m\u001b[1;33m)\u001b[0m\u001b[1;33m\u001b[0m\u001b[1;33m\u001b[0m\u001b[0m\n",
      "\u001b[1;31mNameError\u001b[0m: name 'column_ranges' is not defined"
     ]
    }
   ],
   "source": [
    "# Generate random values for each range\n",
    "column_values = {}\n",
    "for column, value_range in column_ranges.items():\n",
    "    if isinstance(value_range[0], int):\n",
    "        column_values[column] = np.random.randint(value_range[0], value_range[1]+1, size=731)\n",
    "    elif isinstance(value_range[0], float):\n",
    "        column_values[column] = np.random.uniform(value_range[0], value_range[1], size=731)\n",
    "    elif isinstance(value_range[0], pd.Timestamp):\n",
    "        column_values[column] = np.random.choice(pd.date_range(start=value_range[0], end=value_range[-1]), size=731)\n",
    "    else:\n",
    "        raise ValueError(f\"Unknown range type for column {column}\")\n",
    "\n",
    "# Convert to DataFrame\n",
    "bikes = pd.DataFrame(column_values)"
   ]
  }
 ],
 "metadata": {
  "kernelspec": {
   "display_name": "base",
   "language": "python",
   "name": "python3"
  },
  "language_info": {
   "codemirror_mode": {
    "name": "ipython",
    "version": 3
   },
   "file_extension": ".py",
   "mimetype": "text/x-python",
   "name": "python",
   "nbconvert_exporter": "python",
   "pygments_lexer": "ipython3",
   "version": "3.9.13"
  },
  "orig_nbformat": 4
 },
 "nbformat": 4,
 "nbformat_minor": 2
}
